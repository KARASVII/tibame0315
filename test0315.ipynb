{
  "nbformat": 4,
  "nbformat_minor": 0,
  "metadata": {
    "colab": {
      "provenance": [],
      "authorship_tag": "ABX9TyPQZS1Zv8En/qHVjyG9+RKR",
      "include_colab_link": true
    },
    "kernelspec": {
      "name": "python3",
      "display_name": "Python 3"
    },
    "language_info": {
      "name": "python"
    }
  },
  "cells": [
    {
      "cell_type": "markdown",
      "metadata": {
        "id": "view-in-github",
        "colab_type": "text"
      },
      "source": [
        "<a href=\"https://colab.research.google.com/github/KARASVII/tibame0315/blob/main/test0315.ipynb\" target=\"_parent\"><img src=\"https://colab.research.google.com/assets/colab-badge.svg\" alt=\"Open In Colab\"/></a>"
      ]
    },
    {
      "cell_type": "markdown",
      "source": [
        "$ Area = \\frac{1}{2+x}\\pi{R^2} $"
      ],
      "metadata": {
        "id": "KHQ9iAm5KBwc"
      }
    },
    {
      "cell_type": "code",
      "source": [],
      "metadata": {
        "id": "p3tDLZ72I9Ex"
      },
      "execution_count": null,
      "outputs": []
    }
  ]
}